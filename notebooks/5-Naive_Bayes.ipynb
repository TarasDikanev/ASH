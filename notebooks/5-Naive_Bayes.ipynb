{
 "cells": [
  {
   "cell_type": "markdown",
   "metadata": {},
   "source": [
    "# Naive Bayes"
   ]
  },
  {
   "cell_type": "code",
   "execution_count": 96,
   "metadata": {},
   "outputs": [],
   "source": [
    "import numpy as np\n",
    "import matplotlib.pyplot as plt\n",
    "import pandas as pd\n",
    "\n",
    "# Load direct and inverted indices\n",
    "import sys\n",
    "if '..' not in sys.path:\n",
    "    sys.path.append('..')\n",
    "from src.utils import LoadIndices, LoadDatasets\n",
    "\n",
    "from sklearn.model_selection import StratifiedShuffleSplit"
   ]
  },
  {
   "cell_type": "code",
   "execution_count": 97,
   "metadata": {},
   "outputs": [],
   "source": [
    "# Load datasets\n",
    "an_jokes, bash_jokes = LoadDatasets()\n",
    "\n",
    "# Load direct and inverted indices\n",
    "an_direct, an_inverted, bash_direct, bash_inverted = LoadIndices()"
   ]
  },
  {
   "cell_type": "code",
   "execution_count": 65,
   "metadata": {},
   "outputs": [],
   "source": [
    "# Vocablary size (number of different words). It will be used for Laplacian smoothing. Calculated for training set\n",
    "def Vocablary(direct_index, idx):\n",
    "    vocablary = set()\n",
    "    for i in idx:\n",
    "        vocablary |= set(direct_index[i])\n",
    "    return vocablary"
   ]
  },
  {
   "cell_type": "code",
   "execution_count": 66,
   "metadata": {},
   "outputs": [],
   "source": [
    "# Random choice of indices for train and test part\n",
    "# Train and test samples indices\n",
    "def TrainTestIdx(jokes, train_share = 0.75):\n",
    "    #N = len(jokes)\n",
    "    sss = StratifiedShuffleSplit(1, train_size = train_share)\n",
    "    y = [joke[-1] for joke in jokes]\n",
    "    return list(sss.split(np.zeros(len(jokes)), y))[0]"
   ]
  },
  {
   "cell_type": "code",
   "execution_count": 67,
   "metadata": {},
   "outputs": [],
   "source": [
    "# Positive and negative word frequencies (number of use in good or bad jokes)\n",
    "def word_freq(jokes, direct_index, idx):\n",
    "    good_wf, bad_wf = {}, {}\n",
    "    N_good = 0  # Total number of words in good jokes\n",
    "    N_bad = 0  # Total number of words in bad jokes\n",
    "    for i in idx:\n",
    "        joke = direct_index[i]\n",
    "        is_good = jokes[i][-1]\n",
    "        if is_good:\n",
    "            for word in joke:\n",
    "                #good_wf[word] = good_wf.get(word, 0) + joke[word]\n",
    "                #N_good += joke[word]\n",
    "                good_wf[word] = good_wf.get(word, 0) + 1\n",
    "                N_good += 1\n",
    "        else:\n",
    "            for word in joke:\n",
    "                #bad_wf[word] = bad_wf.get(word, 0) + joke[word]\n",
    "                #N_bad += joke[word]\n",
    "                bad_wf[word] = bad_wf.get(word, 0) + 1\n",
    "                N_bad += 1\n",
    "    return good_wf, bad_wf, N_good, N_bad"
   ]
  },
  {
   "cell_type": "code",
   "execution_count": 68,
   "metadata": {},
   "outputs": [],
   "source": [
    "def Classify(joke, good_freq, bad_freq, N_words_good, N_words_bad, V):\n",
    "    P_good = 0\n",
    "    P_bad = 0\n",
    "    for word in joke:\n",
    "        # P(word | good)\n",
    "        P_word_good = (good_freq.get(word, 0) + 1) / (N_words_good + V)\n",
    "        # P(word | bad)\n",
    "        P_word_bad = (bad_freq.get(word, 0) + 1) / (N_words_bad + V)\n",
    "        \n",
    "        #P_good += joke[word] * np.log(P_word_good)\n",
    "        #P_bad  += joke[word] * np.log(P_word_bad)\n",
    "        P_good += np.log(P_word_good)\n",
    "        P_bad  += np.log(P_word_bad)\n",
    "    LL = P_good - P_bad\n",
    "    is_good = float(LL > 0)\n",
    "    return is_good, LL, P_good, P_bad"
   ]
  },
  {
   "cell_type": "markdown",
   "metadata": {},
   "source": [
    "## Anecdotes classification"
   ]
  },
  {
   "cell_type": "code",
   "execution_count": 98,
   "metadata": {},
   "outputs": [
    {
     "name": "stdout",
     "output_type": "stream",
     "text": [
      "Train set accuracy: 0.767\n"
     ]
    },
    {
     "data": {
      "text/plain": [
       "<matplotlib.collections.PathCollection at 0x16ceabd0388>"
      ]
     },
     "execution_count": 98,
     "metadata": {},
     "output_type": "execute_result"
    },
    {
     "data": {
      "image/png": "[encoded data removed]",
      "text/plain": [
       "<Figure size 576x576 with 1 Axes>"
      ]
     },
     "metadata": {
      "needs_background": "light"
     },
     "output_type": "display_data"
    }
   ],
   "source": [
    "# Indices of jokes in train and test sets\n",
    "train_idx, test_idx = TrainTestIdx(an_jokes, 0.75)\n",
    "\n",
    "# Vocablary size\n",
    "vocab = Vocablary(an_direct, train_idx)\n",
    "V = len(vocab)\n",
    "\n",
    "# Positive and negative word frequencies\n",
    "good_freq, bad_freq, N_words_good, N_words_bad = word_freq(an_jokes, an_direct, train_idx)\n",
    "\n",
    "# Classification of train set jokes\n",
    "accuracy = 0\n",
    "Pgg, Pgb, Pbg, Pbb = [], [], [], []\n",
    "for i in train_idx:\n",
    "    joke = an_direct[i]\n",
    "    is_good = an_jokes[i][-1]\n",
    "    is_good_nb, LL, P_good, P_bad = Classify(joke, good_freq, bad_freq, N_words_good, N_words_bad, V)\n",
    "    accuracy += int(is_good_nb == is_good)\n",
    "    if is_good:\n",
    "        Pgg.append(P_good)  # Probability of good joke to be good according to naive bayes (NB)\n",
    "        Pgb.append(P_bad)   # Probability of good joke to be bad according to NB\n",
    "    else:\n",
    "        Pbg.append(P_good)  # Probability of bad joke to be good according to NB\n",
    "        Pbb.append(P_bad)  # Probability of bad jokes to be bad according to NB\n",
    "\n",
    "accuracy /= len(train_idx)\n",
    "print(\"Train set accuracy: {:.3f}\".format(accuracy))\n",
    "    \n",
    "# Visualization\n",
    "fig = plt.figure(figsize = (8,8))\n",
    "plt.scatter(Pgg, Pgb, c = 'green', s = 0.3)\n",
    "plt.scatter(Pbg, Pbb, c = 'red', s = 0.3)"
   ]
  },
  {
   "cell_type": "code",
   "execution_count": 99,
   "metadata": {},
   "outputs": [
    {
     "name": "stdout",
     "output_type": "stream",
     "text": [
      "Test set accuracy: 0.609\n"
     ]
    }
   ],
   "source": [
    "# Test set accuracy\n",
    "accuracy = 0\n",
    "LLg, LLb = {}, {}\n",
    "for i in test_idx:\n",
    "    joke = an_direct[i]\n",
    "    is_good = an_jokes[i][-1]\n",
    "    is_good_nb, LLg[i], P_good, P_bad = Classify(joke, good_freq, bad_freq, N_words_good, N_words_bad, V)\n",
    "    accuracy += int(is_good_nb == is_good)\n",
    "accuracy /= len(test_idx)\n",
    "print(\"Test set accuracy: {:.3f}\".format(accuracy))"
   ]
  },
  {
   "cell_type": "markdown",
   "metadata": {},
   "source": [
    "## Bash quotes classification"
   ]
  },
  {
   "cell_type": "code",
   "execution_count": 100,
   "metadata": {},
   "outputs": [
    {
     "name": "stdout",
     "output_type": "stream",
     "text": [
      "Train set accuracy: 0.886\n"
     ]
    },
    {
     "data": {
      "text/plain": [
       "<matplotlib.collections.PathCollection at 0x16ccb781348>"
      ]
     },
     "execution_count": 100,
     "metadata": {},
     "output_type": "execute_result"
    },
    {
     "data": {
      "image/png": "[encoded data removed]",
      "text/plain": [
       "<Figure size 576x576 with 1 Axes>"
      ]
     },
     "metadata": {
      "needs_background": "light"
     },
     "output_type": "display_data"
    }
   ],
   "source": [
    "# Indices of jokes in train and test sets\n",
    "train_idx, test_idx = TrainTestIdx(bash_jokes)\n",
    "\n",
    "# Vocablary size\n",
    "vocab = Vocablary(bash_direct, train_idx)\n",
    "V = len(vocab)\n",
    "\n",
    "# Positive and negative word frequencies\n",
    "good_freq, bad_freq, N_words_good, N_words_bad = word_freq(bash_jokes, bash_direct, train_idx)\n",
    "\n",
    "# Classification of train set jokes\n",
    "accuracy = 0\n",
    "Pgg, Pgb, Pbg, Pbb = [], [], [], []\n",
    "for i in train_idx:\n",
    "    joke = bash_direct[i]\n",
    "    is_good = bash_jokes[i][-1]\n",
    "    is_good_nb, LL, P_good, P_bad = Classify(joke, good_freq, bad_freq, N_words_good, N_words_bad, V)\n",
    "    accuracy += int(is_good_nb == is_good)\n",
    "    if is_good:\n",
    "        Pgg.append(P_good)  # Probability of good joke to be good according to naive bayes (NB)\n",
    "        Pgb.append(P_bad)   # Probability of good joke to be bad according to NB\n",
    "    else:\n",
    "        Pbg.append(P_good)  # Probability of bad joke to be good according to NB\n",
    "        Pbb.append(P_bad)   # Probability of bad jokes to be bad according to NB\n",
    "accuracy /= len(train_idx)\n",
    "print(\"Train set accuracy: {:.3f}\".format(accuracy))\n",
    "    \n",
    "# Visualization\n",
    "fig = plt.figure(figsize = (8,8))\n",
    "plt.scatter(Pgg, Pgb, c = 'green', s = 0.3)\n",
    "plt.scatter(Pbg, Pbb, c = 'red', s = 0.3)"
   ]
  },
  {
   "cell_type": "code",
   "execution_count": 101,
   "metadata": {},
   "outputs": [
    {
     "name": "stdout",
     "output_type": "stream",
     "text": [
      "Test set accuracy: 0.636\n"
     ]
    }
   ],
   "source": [
    "# Test set accuracy\n",
    "accuracy = 0\n",
    "for i in test_idx:\n",
    "    joke = bash_direct[i]\n",
    "    is_good = bash_jokes[i][-1]\n",
    "    is_good_nb, LL, P_good, P_bad = Classify(joke, good_freq, bad_freq, N_words_good, N_words_bad, V)\n",
    "    accuracy += int(is_good_nb == is_good)\n",
    "accuracy /= len(test_idx)\n",
    "print(\"Test set accuracy: {:.3f}\".format(accuracy))"
   ]
  }
 ],
 "metadata": {
  "kernelspec": {
   "display_name": "Python 3",
   "language": "python",
   "name": "python3"
  },
  "language_info": {
   "codemirror_mode": {
    "name": "ipython",
    "version": 3
   },
   "file_extension": ".py",
   "mimetype": "text/x-python",
   "name": "python",
   "nbconvert_exporter": "python",
   "pygments_lexer": "ipython3",
   "version": "3.7.6"
  }
 },
 "nbformat": 4,
 "nbformat_minor": 4
}
