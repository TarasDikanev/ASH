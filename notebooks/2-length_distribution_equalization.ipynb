{
 "cells": [
  {
   "cell_type": "markdown",
   "metadata": {},
   "source": [
    "# Length distributions equalization\n",
    "\n",
    "Create datasets with equal numbers of good and bad jokes. Also distributions of jokes length (number of words) forsed to be the same. So there should be no direct dependence on joke length."
   ]
  },
  {
   "cell_type": "code",
   "execution_count": 1,
   "metadata": {},
   "outputs": [],
   "source": [
    "import json\n",
    "\n",
    "an_bad = []\n",
    "for i in range(3):\n",
    "    f = open(\"D:\\\\AH3\\\\data\\\\processed\\\\an_bad{}.json\".format(i+1), \"r\", encoding = \"utf-8\")\n",
    "    an_bad += json.loads(f.read())\n",
    "f = open(\"D:\\\\AH3\\\\data\\\\processed\\\\an_good.json\", \"r\", encoding = \"utf-8\")\n",
    "an_good = json.loads(f.read())\n",
    "f = open(\"D:\\\\AH3\\\\data\\\\processed\\\\bash_bad.json\", \"r\", encoding = \"utf-8\")\n",
    "bash_bad = json.loads(f.read())\n",
    "f = open(\"D:\\\\AH3\\\\data\\\\processed\\\\bash_good.json\", \"r\", encoding = \"utf-8\")\n",
    "bash_good = json.loads(f.read())"
   ]
  },
  {
   "cell_type": "markdown",
   "metadata": {},
   "source": [
    "Good jokes tend to be longer. One can see it from average lengths and histogramms:"
   ]
  },
  {
   "cell_type": "code",
   "execution_count": 2,
   "metadata": {},
   "outputs": [
    {
     "name": "stdout",
     "output_type": "stream",
     "text": [
      "Average length\n",
      "    good anecdotes:   33.53\n",
      "    bad anecdotes:    27.00\n",
      "    good bash quotes: 46.36\n",
      "    bad bash quotes:  33.26\n"
     ]
    },
    {
     "data": {
      "image/png": "[encoded data removed]",
      "text/plain": [
       "<Figure size 720x288 with 2 Axes>"
      ]
     },
     "metadata": {
      "needs_background": "light"
     },
     "output_type": "display_data"
    }
   ],
   "source": [
    "import numpy as np\n",
    "import matplotlib.pyplot as plt\n",
    "\n",
    "an_good_lengths   = np.array([len(a[0].split()) for a in an_good])\n",
    "an_bad_lengths    = np.array([len(a[0].split()) for a in an_bad])\n",
    "bash_good_lengths = np.array([len(b[0].split()) for b in bash_good])\n",
    "bash_bad_lengths  = np.array([len(b[0].split()) for b in bash_bad])\n",
    "\n",
    "def ShowLengthsHistogramm(good_lengths, bad_lengths, label = \"\"):\n",
    "    n,bins,patches = plt.hist(bad_lengths, bins = 100, range = (0,100), histtype = 'stepfilled',\n",
    "                              color = (1,0,0,0.4), edgecolor = 'r');\n",
    "    n,bins,patches = plt.hist(good_lengths, bins = 100, range = (0,100), histtype = 'stepfilled', \n",
    "                              color = (0,0,1,0.15), edgecolor = 'b');\n",
    "    plt.grid()\n",
    "    plt.xlim((0, 100))\n",
    "    #plt.ylim((0, 12000))\n",
    "    plt.xlabel('Length')\n",
    "    plt.ylabel('Number of jokes')\n",
    "    plt.legend(['Bad', 'Good'])\n",
    "    plt.title(label)\n",
    "\n",
    "# Histogramms before equalization\n",
    "plt.figure(figsize = (10,4))\n",
    "plt.subplot(1,2,1)\n",
    "ShowLengthsHistogramm(an_good_lengths, an_bad_lengths, \"anekdot.ru\")\n",
    "plt.subplot(1,2,2)\n",
    "ShowLengthsHistogramm(bash_good_lengths, bash_bad_lengths, \"bash\")\n",
    "\n",
    "print(\"\"\"Average length\\n    good anecdotes:   {:.2f}\\n    bad anecdotes:    {:.2f}\n",
    "    good bash quotes: {:.2f}\\n    bad bash quotes:  {:.2f}\"\"\".format(\n",
    "    np.mean(an_good_lengths), np.mean(an_bad_lengths), \n",
    "    np.mean(bash_good_lengths), np.mean(bash_bad_lengths)))\n"
   ]
  },
  {
   "cell_type": "markdown",
   "metadata": {},
   "source": [
    "Let's create datasets with equal lengths distributions for good and bad jokes. We sort jokes according lengths, then divide sorted arrays into 50 parts and randomly choose equal number of jokes in each part."
   ]
  },
  {
   "cell_type": "code",
   "execution_count": 3,
   "metadata": {},
   "outputs": [],
   "source": [
    "def SameLength(x, y):\n",
    "    \"\"\"Remove elements from longer array so both arrays have the same length\"\"\"\n",
    "    n_min = min(len(x), len(y))\n",
    "    rnd = np.arange(n_min)\n",
    "    np.random.shuffle(rnd)\n",
    "    if len(x) < len(y):\n",
    "        y = [y[k] for k in rnd[:n_min]]\n",
    "    else:\n",
    "        x = [x[k] for k in rnd[:n_min]]\n",
    "    return x, y\n",
    "        \n",
    "\n",
    "def EqualizeLengths(good, bad, num_of_parts = 50):\n",
    "    N = len(good) + len(bad)\n",
    "    N_good = len(good)\n",
    "    all_jokes = good + bad\n",
    "    lengths = np.array([len(a[0].split()) for a in all_jokes])\n",
    "    idx = lengths.argsort()\n",
    "    # is_good shows if joke is good in sorted array\n",
    "    is_good = np.zeros(N, dtype = np.int)\n",
    "    is_good[:N_good] = 1\n",
    "    is_good = is_good[idx]\n",
    "    \n",
    "    good_eq = []\n",
    "    bad_eq = []\n",
    "    for i in range(num_of_parts):\n",
    "        p_beg = int(i * N / num_of_parts)\n",
    "        p_end = min(int(p_beg + N / num_of_parts), N)\n",
    "        p_good = [all_jokes[k] for k in range(p_beg, p_end) if is_good[k]]\n",
    "        p_bad  = [all_jokes[k] for k in range(p_beg, p_end) if not is_good[k]]\n",
    "        p_good, p_bad = SameLength(p_good, p_bad)\n",
    "        good_eq += p_good\n",
    "        bad_eq += p_bad    \n",
    "    \n",
    "    return good_eq, bad_eq\n",
    "    \n",
    "\n",
    "an_good_eq, an_bad_eq = EqualizeLengths(an_good, an_bad)\n",
    "bash_good_eq, bash_bad_eq = EqualizeLengths(bash_good, bash_bad)"
   ]
  },
  {
   "cell_type": "code",
   "execution_count": 4,
   "metadata": {},
   "outputs": [
    {
     "name": "stdout",
     "output_type": "stream",
     "text": [
      "Average length\n",
      "    good anecdotes:   28.03\n",
      "    bad anecdotes:    28.40\n",
      "    good bash quotes: 39.61\n",
      "    bad bash quotes:  40.12\n",
      "\n",
      " 24137 24137 14154 14154\n"
     ]
    },
    {
     "data": {
      "image/png": "[encoded data removed]",
      "text/plain": [
       "<Figure size 720x288 with 2 Axes>"
      ]
     },
     "metadata": {
      "needs_background": "light"
     },
     "output_type": "display_data"
    }
   ],
   "source": [
    "# Histogramms after equalization\n",
    "an_good_lengths   = np.array([len(a[0].split()) for a in an_good_eq])\n",
    "an_bad_lengths    = np.array([len(a[0].split()) for a in an_bad_eq])\n",
    "bash_good_lengths = np.array([len(b[0].split()) for b in bash_good_eq])\n",
    "bash_bad_lengths  = np.array([len(b[0].split()) for b in bash_bad_eq])\n",
    "\n",
    "plt.figure(figsize = (10,4))\n",
    "plt.subplot(1,2,1)\n",
    "ShowLengthsHistogramm(an_good_lengths, an_bad_lengths, \"anekdot.ru\")\n",
    "plt.subplot(1,2,2)\n",
    "ShowLengthsHistogramm(bash_good_lengths, bash_bad_lengths, \"bash\")\n",
    "\n",
    "print(\"\"\"Average length\\n    good anecdotes:   {:.2f}\\n    bad anecdotes:    {:.2f}\n",
    "    good bash quotes: {:.2f}\\n    bad bash quotes:  {:.2f}\"\"\".format(\n",
    "    np.mean(an_good_lengths), np.mean(an_bad_lengths), \n",
    "    np.mean(bash_good_lengths), np.mean(bash_bad_lengths)))\n",
    "\n",
    "print(\"\\n\", len(an_good_eq), len(an_bad_eq), len(bash_good_eq), len(bash_bad_eq))\n",
    "\n"
   ]
  },
  {
   "cell_type": "code",
   "execution_count": 5,
   "metadata": {},
   "outputs": [],
   "source": [
    "f = open('D:\\\\AH3\\\\data\\\\processed\\\\an_good_eq.json', 'w', encoding = 'utf-8')\n",
    "f.write(json.dumps(an_good_eq, ensure_ascii = False))\n",
    "f.close()\n",
    "f = open('D:\\\\AH3\\\\data\\\\processed\\\\an_bad_eq.json', 'w', encoding = 'utf-8')\n",
    "f.write(json.dumps(an_bad_eq, ensure_ascii = False))\n",
    "f.close()\n",
    "f = open('D:\\\\AH3\\\\data\\\\processed\\\\bash_good_eq.json', 'w', encoding = 'utf-8')\n",
    "f.write(json.dumps(bash_good_eq, ensure_ascii = False))\n",
    "f.close()\n",
    "f = open('D:\\\\AH3\\\\data\\\\processed\\\\bash_bad_eq.json', 'w', encoding = 'utf-8')\n",
    "f.write(json.dumps(bash_bad_eq, ensure_ascii = False))\n",
    "f.close()"
   ]
  },
  {
   "cell_type": "code",
   "execution_count": 70,
   "metadata": {},
   "outputs": [
    {
     "data": {
      "text/plain": [
       "array([2, 3])"
      ]
     },
     "execution_count": 70,
     "metadata": {},
     "output_type": "execute_result"
    }
   ],
   "source": []
  }
 ],
 "metadata": {
  "kernelspec": {
   "display_name": "Python 3",
   "language": "python",
   "name": "python3"
  },
  "language_info": {
   "codemirror_mode": {
    "name": "ipython",
    "version": 3
   },
   "file_extension": ".py",
   "mimetype": "text/x-python",
   "name": "python",
   "nbconvert_exporter": "python",
   "pygments_lexer": "ipython3",
   "version": "3.7.6"
  }
 },
 "nbformat": 4,
 "nbformat_minor": 4
}
