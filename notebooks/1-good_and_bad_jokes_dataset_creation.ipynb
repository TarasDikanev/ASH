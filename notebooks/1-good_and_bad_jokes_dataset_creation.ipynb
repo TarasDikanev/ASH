{
 "cells": [
  {
   "cell_type": "markdown",
   "metadata": {},
   "source": [
    "# Good and bad bash jokes\n",
    "\n",
    "Compare joke rating with 100 other jokes nearest in time (+/- 50 jokes around). If it is in 25% best it is good, in 25% worst it is bad."
   ]
  },
  {
   "cell_type": "code",
   "execution_count": 3,
   "metadata": {},
   "outputs": [],
   "source": [
    "import json\n",
    "\n",
    "f = open('D:\\\\AH3\\\\data\\\\raw\\\\bash.json', 'r', encoding = 'utf-8')\n",
    "bash_all = json.loads(f.read())\n",
    "f.close()"
   ]
  },
  {
   "cell_type": "code",
   "execution_count": 39,
   "metadata": {},
   "outputs": [],
   "source": [
    "import numpy as np\n",
    "\n",
    "good_jokes = []\n",
    "bad_jokes = []\n",
    "win_len = 100  # Number of jokes to compare\n",
    "N = len(bash_all)\n",
    "idx = 4  # index of rating in joke data list\n",
    "ratings = np.array([b[idx] for b in bash_all])\n",
    "for i in range(N):\n",
    "    j1 = max(i - win_len // 2, 0)\n",
    "    j2 = min(i + win_len // 2, N - 1)\n",
    "    if bash_all[i][idx] > np.quantile(ratings[j1:j2], 0.75):\n",
    "        good_jokes.append(bash_all[i])\n",
    "    if bash_all[i][idx] < np.quantile(ratings[j1:j2], 0.25):\n",
    "        bad_jokes.append(bash_all[i])\n",
    "    "
   ]
  },
  {
   "cell_type": "code",
   "execution_count": 40,
   "metadata": {},
   "outputs": [],
   "source": [
    "f = open('D:\\\\AH3\\\\data\\\\processed\\\\bash_good.json', 'w', encoding = 'utf-8')\n",
    "f.write(json.dumps(good_jokes, ensure_ascii = False))\n",
    "f.close()\n",
    "f = open('D:\\\\AH3\\\\data\\\\processed\\\\bash_bad.json', 'w', encoding = 'utf-8')\n",
    "f.write(json.dumps(bad_jokes, ensure_ascii = False))\n",
    "f.close()"
   ]
  },
  {
   "cell_type": "markdown",
   "metadata": {},
   "source": [
    "# Good and bad anecdotes\n",
    "\n",
    "Consider anecdote good if it is in top 3 of the day and its rating is more than 100. Consider bad all anecdotes with rating less than 50."
   ]
  },
  {
   "cell_type": "code",
   "execution_count": 9,
   "metadata": {},
   "outputs": [],
   "source": [
    "anecdotes_all = []\n",
    "for i in range(3):\n",
    "    f = open('D:\\\\AH3\\\\data\\\\raw\\\\anekdot_ru{}.json'.format(i+1), 'r', encoding = 'utf-8')\n",
    "    anecdotes_all += json.loads(f.read())\n",
    "    f.close()"
   ]
  },
  {
   "cell_type": "code",
   "execution_count": 10,
   "metadata": {},
   "outputs": [],
   "source": [
    "good_an = []\n",
    "bad_an = []\n",
    "date_idx = 1  # index od date in anecdote list\n",
    "rating_idx = 2  # index od date in anecdote list\n",
    "current_date = anecdotes_all[0][date_idx]\n",
    "anecdotes_day = []\n",
    "for a in anecdotes_all:\n",
    "    date = a[date_idx]\n",
    "    if date == current_date:\n",
    "        anecdotes_day.append(a)\n",
    "    else:\n",
    "        # Process day anecdotes\n",
    "        # Top 3 with rating more than 100 is good\n",
    "        for i in range(min(3, len(anecdotes_day))):\n",
    "            if anecdotes_day[i][rating_idx] > 100:\n",
    "                good_an.append(anecdotes_day[i])\n",
    "        for i in range(len(anecdotes_day)):\n",
    "            if anecdotes_day[i][rating_idx] < 50:\n",
    "                bad_an.append(anecdotes_day[i])\n",
    "            \n",
    "        current_date = date\n",
    "        anecdotes_day = []"
   ]
  },
  {
   "cell_type": "code",
   "execution_count": 11,
   "metadata": {},
   "outputs": [],
   "source": [
    "f = open('D:\\\\AH3\\\\data\\\\processed\\\\an_good.json', 'w', encoding = 'utf-8')\n",
    "f.write(json.dumps(good_an, ensure_ascii = False))\n",
    "f.close()\n",
    "# Divide bad anecdotes into 3 files to avoid GitHub 50 Mb limit\n",
    "N = len(bad_an)\n",
    "f = open('D:\\\\AH3\\\\data\\\\processed\\\\an_bad1.json', 'w', encoding = 'utf-8')\n",
    "f.write(json.dumps(bad_an[:N//3], ensure_ascii = False))\n",
    "f.close()\n",
    "f = open('D:\\\\AH3\\\\data\\\\processed\\\\an_bad2.json', 'w', encoding = 'utf-8')\n",
    "f.write(json.dumps(bad_an[N//3:2*N//3], ensure_ascii = False))\n",
    "f.close()\n",
    "f = open('D:\\\\AH3\\\\data\\\\processed\\\\an_bad3.json', 'w', encoding = 'utf-8')\n",
    "f.write(json.dumps(bad_an[2*N//3:], ensure_ascii = False))\n",
    "f.close()"
   ]
  }
 ],
 "metadata": {
  "kernelspec": {
   "display_name": "Python 3",
   "language": "python",
   "name": "python3"
  },
  "language_info": {
   "codemirror_mode": {
    "name": "ipython",
    "version": 3
   },
   "file_extension": ".py",
   "mimetype": "text/x-python",
   "name": "python",
   "nbconvert_exporter": "python",
   "pygments_lexer": "ipython3",
   "version": "3.7.6"
  }
 },
 "nbformat": 4,
 "nbformat_minor": 4
}
