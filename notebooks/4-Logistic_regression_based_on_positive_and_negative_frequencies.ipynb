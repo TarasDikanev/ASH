{
 "cells": [
  {
   "cell_type": "markdown",
   "metadata": {},
   "source": [
    "# Logistic regression\n",
    "\n",
    "For each word count how many times it is used in good and bad jokes (positive and negative frequency). For each joke some up this frequencies for all words (except stop words). Use logistic regression to classify jokes based on these features."
   ]
  },
  {
   "cell_type": "code",
   "execution_count": 45,
   "metadata": {},
   "outputs": [
    {
     "name": "stderr",
     "output_type": "stream",
     "text": [
      "[nltk_data] Downloading package stopwords to\n",
      "[nltk_data]     C:\\Users\\User\\AppData\\Roaming\\nltk_data...\n",
      "[nltk_data]   Package stopwords is already up-to-date!\n"
     ]
    }
   ],
   "source": [
    "import sys\n",
    "if '..' not in sys.path:\n",
    "    sys.path.append('..')\n",
    "from src.utils import tokenize, lemmatize, LoadIndices, LoadDatasets\n",
    "\n",
    "import numpy as np\n",
    "import matplotlib.pyplot as plt\n",
    "\n",
    "import nltk\n",
    "nltk.download(\"stopwords\")\n",
    "stopwords = set(nltk.corpus.stopwords.words(\"russian\"))\n",
    "\n",
    "from sklearn.linear_model import LogisticRegression"
   ]
  },
  {
   "cell_type": "code",
   "execution_count": 3,
   "metadata": {},
   "outputs": [],
   "source": [
    "# Load datasets\n",
    "an_good, an_bad, bash_good, bash_bad = LoadDatasets()\n",
    "\n",
    "# Load direct and inverted indices\n",
    "an_good_direct, an_bad_direct, an_good_inverted, an_bad_inverted, \\\n",
    "bash_good_direct, bash_bad_direct, bash_good_inverted, bash_bad_inverted = LoadIndices()"
   ]
  },
  {
   "cell_type": "markdown",
   "metadata": {},
   "source": [
    "## Anecdotes classification"
   ]
  },
  {
   "cell_type": "code",
   "execution_count": 101,
   "metadata": {},
   "outputs": [],
   "source": [
    "# Train and test samples indices\n",
    "N = len(an_good_direct)\n",
    "\n",
    "def TrainTestIdx(N, train_share = 0.75):\n",
    "    N_train = int(train_share * N)\n",
    "    N_test = N - N_train\n",
    "    idx = np.arange(N)\n",
    "    np.random.shuffle(idx)  # random indices\n",
    "    idx_train = idx[:N_train]  # Number of train samples from good and bad sets (total number is 2*N_train)\n",
    "    idx_test = idx[N_train:]\n",
    "    return idx_train, idx_test\n",
    "\n",
    "idx_train, idx_test = TrainTestIdx(N)\n",
    "\n",
    "# How many times each word met in good and jokes\n",
    "def getFreq(direct_index, idx):\n",
    "    freq = {}\n",
    "    for i in idx:\n",
    "        d = direct_index[i]\n",
    "        for w in d:\n",
    "            if w not in stopwords:\n",
    "                freq[w] = freq.get(w, 0) + d[w]\n",
    "    return freq\n",
    "\n",
    "freq_good = getFreq(an_good_direct, idx_train)\n",
    "freq_bad = getFreq(an_bad_direct, idx_train)\n",
    "\n",
    "def ModelData(idx, data = 'anec'):\n",
    "    if data == 'anec':\n",
    "        good_direct, bad_direct = an_good_direct, an_bad_direct\n",
    "    else:\n",
    "        if data == 'bash':\n",
    "            good_direct, bad_direct = bash_good_direct, bash_bad_direct\n",
    "        else:\n",
    "            print(\"Unknown data: {}\".format(data))\n",
    "            return\n",
    "    Nd = len(idx)\n",
    "    X = np.zeros((2*Nd, 3))\n",
    "    X[:,0] = 1\n",
    "    for n in range(Nd):\n",
    "        i = idx[n]\n",
    "        for w in good_direct[i]:\n",
    "            X[n,1] += freq_good.get(w, 0)\n",
    "            X[n,2] += freq_bad.get(w, 0)\n",
    "        for w in bad_direct[i]:\n",
    "            X[Nd+n,1] += freq_good.get(w, 0)\n",
    "            X[Nd+n,2] += freq_bad.get(w, 0)\n",
    "    y = np.zeros(2*Nd)\n",
    "    y[:Nd] = 1    \n",
    "    return X, y\n",
    "\n",
    "X, y = ModelData(idx_train, 'anec')"
   ]
  },
  {
   "cell_type": "code",
   "execution_count": 102,
   "metadata": {},
   "outputs": [
    {
     "data": {
      "text/plain": [
       "<matplotlib.collections.PathCollection at 0x1f0a880ac08>"
      ]
     },
     "execution_count": 102,
     "metadata": {},
     "output_type": "execute_result"
    },
    {
     "data": {
      "image/png": "[encoded data removed]",
      "text/plain": [
       "<Figure size 576x576 with 1 Axes>"
      ]
     },
     "metadata": {
      "needs_background": "light"
     },
     "output_type": "display_data"
    }
   ],
   "source": [
    "fig = plt.figure(figsize = (8,8))\n",
    "colors = ['green', 'red']\n",
    "plt.scatter(X[:,1], X[:,2], c = [colors[int(k)] for k in y], s = 0.3)"
   ]
  },
  {
   "cell_type": "code",
   "execution_count": 103,
   "metadata": {},
   "outputs": [
    {
     "name": "stdout",
     "output_type": "stream",
     "text": [
      "Train accuracy: 0.569\n",
      "Test accuracy: 0.513\n"
     ]
    }
   ],
   "source": [
    "lr = LogisticRegression(penalty = 'none')\n",
    "lr.fit(X, y)\n",
    "print(\"Train accuracy: {:.3f}\".format(lr.score(X, y)))\n",
    "\n",
    "Xtest, y_test = ModelData(idx_test, 'anec')\n",
    "print(\"Test accuracy: {:.3f}\".format(lr.score(Xtest, y_test)))"
   ]
  },
  {
   "cell_type": "markdown",
   "metadata": {},
   "source": [
    "## Bash quotes classification"
   ]
  },
  {
   "cell_type": "code",
   "execution_count": 104,
   "metadata": {},
   "outputs": [],
   "source": [
    "# Train and test samples indices\n",
    "N = len(bash_good_direct)\n",
    "idx_train, idx_test = TrainTestIdx(N)\n",
    "\n",
    "freq_good = getFreq(bash_good_direct, idx_train)\n",
    "freq_bad = getFreq(bash_bad_direct, idx_train)\n",
    "\n",
    "X, y = ModelData(idx_train, 'bash')"
   ]
  },
  {
   "cell_type": "code",
   "execution_count": 105,
   "metadata": {},
   "outputs": [
    {
     "data": {
      "text/plain": [
       "<matplotlib.collections.PathCollection at 0x1f0a886e348>"
      ]
     },
     "execution_count": 105,
     "metadata": {},
     "output_type": "execute_result"
    },
    {
     "data": {
      "image/png": "[encoded data removed]",
      "text/plain": [
       "<Figure size 576x576 with 1 Axes>"
      ]
     },
     "metadata": {
      "needs_background": "light"
     },
     "output_type": "display_data"
    }
   ],
   "source": [
    "fig = plt.figure(figsize = (8,8))\n",
    "colors = ['green', 'red']\n",
    "plt.scatter(X[:,1], X[:,2], c = [colors[int(k)] for k in y], s = 0.3)"
   ]
  },
  {
   "cell_type": "code",
   "execution_count": 106,
   "metadata": {},
   "outputs": [
    {
     "name": "stdout",
     "output_type": "stream",
     "text": [
      "Train accuracy: 0.573\n",
      "Test accuracy: 0.501\n"
     ]
    }
   ],
   "source": [
    "lr = LogisticRegression(penalty = 'none')\n",
    "lr.fit(X, y)\n",
    "print(\"Train accuracy: {:.3f}\".format(lr.score(X, y)))\n",
    "\n",
    "Xtest, y_test = ModelData(idx_test, 'bash')\n",
    "print(\"Test accuracy: {:.3f}\".format(lr.score(Xtest, y_test)))"
   ]
  }
 ],
 "metadata": {
  "kernelspec": {
   "display_name": "Python 3",
   "language": "python",
   "name": "python3"
  },
  "language_info": {
   "codemirror_mode": {
    "name": "ipython",
    "version": 3
   },
   "file_extension": ".py",
   "mimetype": "text/x-python",
   "name": "python",
   "nbconvert_exporter": "python",
   "pygments_lexer": "ipython3",
   "version": "3.7.6"
  }
 },
 "nbformat": 4,
 "nbformat_minor": 4
}
